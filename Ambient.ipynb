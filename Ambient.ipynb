{
  "nbformat": 4,
  "nbformat_minor": 0,
  "metadata": {
    "colab": {
      "provenance": [],
      "authorship_tag": "ABX9TyOu4JlwmewGW4f5KzTzxXI1",
      "include_colab_link": true
    },
    "kernelspec": {
      "name": "python3",
      "display_name": "Python 3"
    },
    "language_info": {
      "name": "python"
    }
  },
  "cells": [
    {
      "cell_type": "markdown",
      "metadata": {
        "id": "view-in-github",
        "colab_type": "text"
      },
      "source": [
        "<a href=\"https://colab.research.google.com/github/LuisaPolicarpo/Project_6/blob/main/Ambient.ipynb\" target=\"_parent\"><img src=\"https://colab.research.google.com/assets/colab-badge.svg\" alt=\"Open In Colab\"/></a>"
      ]
    },
    {
      "cell_type": "code",
      "execution_count": 1,
      "metadata": {
        "colab": {
          "base_uri": "https://localhost:8080/"
        },
        "id": "LvOpEJ8lF77V",
        "outputId": "61853123-563e-40f5-8290-67f9b1f52c47"
      },
      "outputs": [
        {
          "output_type": "stream",
          "name": "stdout",
          "text": [
            "Looking in indexes: https://pypi.org/simple, https://us-python.pkg.dev/colab-wheels/public/simple/\n",
            "Requirement already satisfied: pyspark in /usr/local/lib/python3.8/dist-packages (3.3.1)\n",
            "Requirement already satisfied: py4j==0.10.9.5 in /usr/local/lib/python3.8/dist-packages (from pyspark) (0.10.9.5)\n"
          ]
        }
      ],
      "source": [
        "pip install pyspark"
      ]
    },
    {
      "cell_type": "code",
      "source": [
        "import pyspark\n",
        "from pyspark.sql import SparkSession\n",
        "from pyspark.sql import functions as func\n",
        "from pyspark.sql import SparkSession, Row\n",
        "from pyspark.sql.types import NullType\n",
        "from pyspark.sql.functions import col"
      ],
      "metadata": {
        "id": "TPdFtEYVGOxM"
      },
      "execution_count": 2,
      "outputs": []
    },
    {
      "cell_type": "code",
      "source": [
        "spark = SparkSession.builder.appName('SparkSQLFilter').getOrCreate()"
      ],
      "metadata": {
        "id": "ih0qGjZGGljr"
      },
      "execution_count": 3,
      "outputs": []
    },
    {
      "cell_type": "code",
      "source": [
        "url = \"https://raw.githubusercontent.com/LuisaPolicarpo/Project_6/main/Datasets/EXP_PM2_5_26012023152536994.csv\"\n",
        "from pyspark import SparkFiles\n",
        "spark.sparkContext.addFile(url)\n",
        "\n",
        "df_25 = spark.read.csv(\"file://\"+SparkFiles.get(\"EXP_PM2_5_26012023152536994.csv\"), header=True, inferSchema= True)"
      ],
      "metadata": {
        "id": "iOVcBMpELjJ2"
      },
      "execution_count": 4,
      "outputs": []
    },
    {
      "cell_type": "code",
      "source": [
        "df_25.show()"
      ],
      "metadata": {
        "colab": {
          "base_uri": "https://localhost:8080/"
        },
        "id": "6zw3SJdoL15s",
        "outputId": "2d354f61-3e86-4d52-d891-d357feaf3013"
      },
      "execution_count": 5,
      "outputs": [
        {
          "output_type": "stream",
          "name": "stdout",
          "text": [
            "+---+---------+------------------------+------------------------+------------------------+------------------------+------+--------------------+----+----+---------+--------------------+--------------+---------+---------------------+----------------+-----+----------+---------------+\n",
            "|COU|  Country|SMALL_SUBNATIONAL_REGION|Small subnational region|LARGE_SUBNATIONAL_REGION|Large subnational region|   VAR|            Variable| YEA|Year|Unit Code|                Unit|PowerCode Code|PowerCode|Reference Period Code|Reference Period|Value|Flag Codes|          Flags|\n",
            "+---+---------+------------------------+------------------------+------------------------+------------------------+------+--------------------+----+----+---------+--------------------+--------------+---------+---------------------+----------------+-----+----------+---------------+\n",
            "|AUS|Australia|                      NA|          Not applicable|                   TOTAL|                   Total|PWM_EX|Mean population e...|1990|1990| MICRO_M3|Micrograms per cu...|             0|    Units|                 null|            null| 7.76|         E|Estimated value|\n",
            "|AUS|Australia|                      NA|          Not applicable|                   TOTAL|                   Total|PWM_EX|Mean population e...|1995|1995| MICRO_M3|Micrograms per cu...|             0|    Units|                 null|            null| 7.46|         E|Estimated value|\n",
            "|AUS|Australia|                      NA|          Not applicable|                   TOTAL|                   Total|PWM_EX|Mean population e...|2000|2000| MICRO_M3|Micrograms per cu...|             0|    Units|                 null|            null| 7.45|         E|Estimated value|\n",
            "|AUS|Australia|                      NA|          Not applicable|                   TOTAL|                   Total|PWM_EX|Mean population e...|2001|2001| MICRO_M3|Micrograms per cu...|             0|    Units|                 null|            null| 7.58|         E|Estimated value|\n",
            "|AUS|Australia|                      NA|          Not applicable|                   TOTAL|                   Total|PWM_EX|Mean population e...|2002|2002| MICRO_M3|Micrograms per cu...|             0|    Units|                 null|            null|  7.6|         E|Estimated value|\n",
            "|AUS|Australia|                      NA|          Not applicable|                   TOTAL|                   Total|PWM_EX|Mean population e...|2003|2003| MICRO_M3|Micrograms per cu...|             0|    Units|                 null|            null| 7.91|         E|Estimated value|\n",
            "|AUS|Australia|                      NA|          Not applicable|                   TOTAL|                   Total|PWM_EX|Mean population e...|2004|2004| MICRO_M3|Micrograms per cu...|             0|    Units|                 null|            null|  7.0|         E|Estimated value|\n",
            "|AUS|Australia|                      NA|          Not applicable|                   TOTAL|                   Total|PWM_EX|Mean population e...|2005|2005| MICRO_M3|Micrograms per cu...|             0|    Units|                 null|            null| 6.98|         E|Estimated value|\n",
            "|AUS|Australia|                      NA|          Not applicable|                   TOTAL|                   Total|PWM_EX|Mean population e...|2006|2006| MICRO_M3|Micrograms per cu...|             0|    Units|                 null|            null| 7.53|         E|Estimated value|\n",
            "|AUS|Australia|                      NA|          Not applicable|                   TOTAL|                   Total|PWM_EX|Mean population e...|2007|2007| MICRO_M3|Micrograms per cu...|             0|    Units|                 null|            null| 7.17|         E|Estimated value|\n",
            "|AUS|Australia|                      NA|          Not applicable|                   TOTAL|                   Total|PWM_EX|Mean population e...|2008|2008| MICRO_M3|Micrograms per cu...|             0|    Units|                 null|            null| 7.05|         E|Estimated value|\n",
            "|AUS|Australia|                      NA|          Not applicable|                   TOTAL|                   Total|PWM_EX|Mean population e...|2009|2009| MICRO_M3|Micrograms per cu...|             0|    Units|                 null|            null| 7.79|         E|Estimated value|\n",
            "|AUS|Australia|                      NA|          Not applicable|                   TOTAL|                   Total|PWM_EX|Mean population e...|2010|2010| MICRO_M3|Micrograms per cu...|             0|    Units|                 null|            null| 6.93|         E|Estimated value|\n",
            "|AUS|Australia|                      NA|          Not applicable|                   TOTAL|                   Total|PWM_EX|Mean population e...|2011|2011| MICRO_M3|Micrograms per cu...|             0|    Units|                 null|            null| 7.31|         E|Estimated value|\n",
            "|AUS|Australia|                      NA|          Not applicable|                   TOTAL|                   Total|PWM_EX|Mean population e...|2012|2012| MICRO_M3|Micrograms per cu...|             0|    Units|                 null|            null| 7.52|         E|Estimated value|\n",
            "|AUS|Australia|                      NA|          Not applicable|                   TOTAL|                   Total|PWM_EX|Mean population e...|2013|2013| MICRO_M3|Micrograms per cu...|             0|    Units|                 null|            null| 7.42|         E|Estimated value|\n",
            "|AUS|Australia|                      NA|          Not applicable|                   TOTAL|                   Total|PWM_EX|Mean population e...|2014|2014| MICRO_M3|Micrograms per cu...|             0|    Units|                 null|            null| 7.37|         E|Estimated value|\n",
            "|AUS|Australia|                      NA|          Not applicable|                   TOTAL|                   Total|PWM_EX|Mean population e...|2015|2015| MICRO_M3|Micrograms per cu...|             0|    Units|                 null|            null| 7.17|         E|Estimated value|\n",
            "|AUS|Australia|                      NA|          Not applicable|                   TOTAL|                   Total|PWM_EX|Mean population e...|2016|2016| MICRO_M3|Micrograms per cu...|             0|    Units|                 null|            null|  7.2|         E|Estimated value|\n",
            "|AUS|Australia|                      NA|          Not applicable|                   TOTAL|                   Total|PWM_EX|Mean population e...|2017|2017| MICRO_M3|Micrograms per cu...|             0|    Units|                 null|            null| 7.41|         E|Estimated value|\n",
            "+---+---------+------------------------+------------------------+------------------------+------------------------+------+--------------------+----+----+---------+--------------------+--------------+---------+---------------------+----------------+-----+----------+---------------+\n",
            "only showing top 20 rows\n",
            "\n"
          ]
        }
      ]
    },
    {
      "cell_type": "code",
      "source": [
        "df_25_country = df_25.groupBy('Country').count().show()"
      ],
      "metadata": {
        "colab": {
          "base_uri": "https://localhost:8080/"
        },
        "id": "hQuiBbiMMQS9",
        "outputId": "a93d91b0-e985-4349-c0de-3dd5003481ed"
      },
      "execution_count": 6,
      "outputs": [
        {
          "output_type": "stream",
          "name": "stdout",
          "text": [
            "+--------------------+-----+\n",
            "|             Country|count|\n",
            "+--------------------+-----+\n",
            "|       Côte d'Ivoire|   23|\n",
            "|                Chad|   23|\n",
            "|            Anguilla|   23|\n",
            "|            Paraguay|   23|\n",
            "|              Russia|   23|\n",
            "|               Yemen|   23|\n",
            "|               World|   14|\n",
            "|      Chinese Taipei|   23|\n",
            "|Middle East and N...|   14|\n",
            "|             Senegal|   23|\n",
            "|              Sweden|   23|\n",
            "|          Cabo Verde|   23|\n",
            "|             Tokelau|   23|\n",
            "|            Kiribati|   23|\n",
            "|              Guyana|   23|\n",
            "|             Eritrea|   23|\n",
            "|         Philippines|   23|\n",
            "|              Jersey|   23|\n",
            "|            Djibouti|   23|\n",
            "|      Norfolk Island|   14|\n",
            "+--------------------+-----+\n",
            "only showing top 20 rows\n",
            "\n"
          ]
        }
      ]
    },
    {
      "cell_type": "code",
      "source": [
        "df_25_flags = df_25.groupBy('Flags').count().show()"
      ],
      "metadata": {
        "colab": {
          "base_uri": "https://localhost:8080/"
        },
        "id": "A71fXztKND8Y",
        "outputId": "949f1b4d-e763-4697-9d59-ab320bc4dde4"
      },
      "execution_count": 7,
      "outputs": [
        {
          "output_type": "stream",
          "name": "stdout",
          "text": [
            "+---------------+-----+\n",
            "|          Flags|count|\n",
            "+---------------+-----+\n",
            "|Estimated value| 5357|\n",
            "|           null|  140|\n",
            "+---------------+-----+\n",
            "\n"
          ]
        }
      ]
    },
    {
      "cell_type": "code",
      "source": [
        "df_25_unit= df_25.groupBy('Unit').count().show()"
      ],
      "metadata": {
        "colab": {
          "base_uri": "https://localhost:8080/"
        },
        "id": "HUIHuntwNIPy",
        "outputId": "84e04580-0a9b-4c65-8db3-4038ea2ec926"
      },
      "execution_count": 8,
      "outputs": [
        {
          "output_type": "stream",
          "name": "stdout",
          "text": [
            "+--------------------+-----+\n",
            "|                Unit|count|\n",
            "+--------------------+-----+\n",
            "|Micrograms per cu...| 5497|\n",
            "+--------------------+-----+\n",
            "\n"
          ]
        }
      ]
    },
    {
      "cell_type": "code",
      "source": [
        "df_25_year= df_25.groupBy('Year').count().sort(\"Year\", ascending= True).show() # check the years!!"
      ],
      "metadata": {
        "colab": {
          "base_uri": "https://localhost:8080/"
        },
        "id": "VZCr_hHuQNih",
        "outputId": "a43ad2f6-b3ca-43ee-9bc6-c6a6d77cbf24"
      },
      "execution_count": 9,
      "outputs": [
        {
          "output_type": "stream",
          "name": "stdout",
          "text": [
            "+----+-----+\n",
            "|Year|count|\n",
            "+----+-----+\n",
            "|1990|  248|\n",
            "|1995|  248|\n",
            "|2000|  248|\n",
            "|2001|  225|\n",
            "|2002|  225|\n",
            "|2003|  225|\n",
            "|2004|  225|\n",
            "|2005|  248|\n",
            "|2006|  225|\n",
            "|2007|  225|\n",
            "|2008|  225|\n",
            "|2009|  225|\n",
            "|2010|  248|\n",
            "|2011|  248|\n",
            "|2012|  248|\n",
            "|2013|  248|\n",
            "|2014|  248|\n",
            "|2015|  248|\n",
            "|2016|  248|\n",
            "|2017|  248|\n",
            "+----+-----+\n",
            "only showing top 20 rows\n",
            "\n"
          ]
        }
      ]
    },
    {
      "cell_type": "code",
      "source": [
        "df_25_Variable= df_25.groupBy('Variable').count().show()"
      ],
      "metadata": {
        "colab": {
          "base_uri": "https://localhost:8080/"
        },
        "id": "_RcrxmqiNQ9I",
        "outputId": "bc972cee-d2a7-4d02-a043-afbf6ce13a33"
      },
      "execution_count": 10,
      "outputs": [
        {
          "output_type": "stream",
          "name": "stdout",
          "text": [
            "+--------------------+-----+\n",
            "|            Variable|count|\n",
            "+--------------------+-----+\n",
            "|Mean population e...| 5497|\n",
            "+--------------------+-----+\n",
            "\n"
          ]
        }
      ]
    },
    {
      "cell_type": "code",
      "source": [
        "df_25_Large= df_25.groupBy('Large subnational region').count().show()"
      ],
      "metadata": {
        "colab": {
          "base_uri": "https://localhost:8080/"
        },
        "id": "_esqt-d1NWO3",
        "outputId": "76a2f1bd-d6a8-415f-9a40-3ccf77f217a7"
      },
      "execution_count": 11,
      "outputs": [
        {
          "output_type": "stream",
          "name": "stdout",
          "text": [
            "+------------------------+-----+\n",
            "|Large subnational region|count|\n",
            "+------------------------+-----+\n",
            "|                   Total| 5497|\n",
            "+------------------------+-----+\n",
            "\n"
          ]
        }
      ]
    },
    {
      "cell_type": "code",
      "source": [
        "df_25_small= df_25.groupBy('SMALL_SUBNATIONAL_REGION').count().show()"
      ],
      "metadata": {
        "colab": {
          "base_uri": "https://localhost:8080/"
        },
        "id": "Bxa0POfCN9Zh",
        "outputId": "61381174-7dd6-437c-f677-8e7239014d97"
      },
      "execution_count": 12,
      "outputs": [
        {
          "output_type": "stream",
          "name": "stdout",
          "text": [
            "+------------------------+-----+\n",
            "|SMALL_SUBNATIONAL_REGION|count|\n",
            "+------------------------+-----+\n",
            "|                      NA| 5497|\n",
            "+------------------------+-----+\n",
            "\n"
          ]
        }
      ]
    },
    {
      "cell_type": "code",
      "source": [
        "df_25_var= df_25.groupBy('VAR').count().show()"
      ],
      "metadata": {
        "colab": {
          "base_uri": "https://localhost:8080/"
        },
        "id": "Qimp9yxlODH4",
        "outputId": "1470d331-4bd7-48f0-88cd-986265aaaf30"
      },
      "execution_count": 13,
      "outputs": [
        {
          "output_type": "stream",
          "name": "stdout",
          "text": [
            "+------+-----+\n",
            "|   VAR|count|\n",
            "+------+-----+\n",
            "|PWM_EX| 5497|\n",
            "+------+-----+\n",
            "\n"
          ]
        }
      ]
    },
    {
      "cell_type": "code",
      "source": [
        "df_25_cod= df_25.groupBy('Unit Code').count().show()"
      ],
      "metadata": {
        "colab": {
          "base_uri": "https://localhost:8080/"
        },
        "id": "yS-suhzeOYge",
        "outputId": "4cfefdb9-bf5e-4891-dcef-6e0c8922f655"
      },
      "execution_count": 14,
      "outputs": [
        {
          "output_type": "stream",
          "name": "stdout",
          "text": [
            "+---------+-----+\n",
            "|Unit Code|count|\n",
            "+---------+-----+\n",
            "| MICRO_M3| 5497|\n",
            "+---------+-----+\n",
            "\n"
          ]
        }
      ]
    },
    {
      "cell_type": "code",
      "source": [
        "df_25_PowerCode= df_25.groupBy('PowerCode Code').count().show()"
      ],
      "metadata": {
        "colab": {
          "base_uri": "https://localhost:8080/"
        },
        "id": "DDRELld6Og0r",
        "outputId": "5bfc1053-edfc-4eed-bee8-82f36e835eca"
      },
      "execution_count": 15,
      "outputs": [
        {
          "output_type": "stream",
          "name": "stdout",
          "text": [
            "+--------------+-----+\n",
            "|PowerCode Code|count|\n",
            "+--------------+-----+\n",
            "|             0| 5497|\n",
            "+--------------+-----+\n",
            "\n"
          ]
        }
      ]
    },
    {
      "cell_type": "code",
      "source": [
        "df_25_final = df_25.drop(\"COU\", \"SMALL_SUBNATIONAL_REGION\",\"Small subnational region\", \"Large subnational region\",\"LARGE_SUBNATIONAL_REGION\", \"Unit Code\", \"VAR\", \"Variable\", \"YEA\",\"PowerCode Code\", \"Unit\", \"Unit Code\", \"PowerCode\",\"Reference Period Code\",\"Reference Period\",\"Flag Codes\",\"Flags\" )"
      ],
      "metadata": {
        "id": "BmzIt4o2Nomm"
      },
      "execution_count": 16,
      "outputs": []
    },
    {
      "cell_type": "code",
      "source": [
        "df_25_final.show()"
      ],
      "metadata": {
        "colab": {
          "base_uri": "https://localhost:8080/"
        },
        "id": "4l-dKSqdO7Ka",
        "outputId": "4e698ad4-2e65-45a9-f8e5-08e35612e3f5"
      },
      "execution_count": 17,
      "outputs": [
        {
          "output_type": "stream",
          "name": "stdout",
          "text": [
            "+---------+----+-----+\n",
            "|  Country|Year|Value|\n",
            "+---------+----+-----+\n",
            "|Australia|1990| 7.76|\n",
            "|Australia|1995| 7.46|\n",
            "|Australia|2000| 7.45|\n",
            "|Australia|2001| 7.58|\n",
            "|Australia|2002|  7.6|\n",
            "|Australia|2003| 7.91|\n",
            "|Australia|2004|  7.0|\n",
            "|Australia|2005| 6.98|\n",
            "|Australia|2006| 7.53|\n",
            "|Australia|2007| 7.17|\n",
            "|Australia|2008| 7.05|\n",
            "|Australia|2009| 7.79|\n",
            "|Australia|2010| 6.93|\n",
            "|Australia|2011| 7.31|\n",
            "|Australia|2012| 7.52|\n",
            "|Australia|2013| 7.42|\n",
            "|Australia|2014| 7.37|\n",
            "|Australia|2015| 7.17|\n",
            "|Australia|2016|  7.2|\n",
            "|Australia|2017| 7.41|\n",
            "+---------+----+-----+\n",
            "only showing top 20 rows\n",
            "\n"
          ]
        }
      ]
    },
    {
      "cell_type": "code",
      "source": [
        "df_final_country = df_25_final.groupBy('Country', 'Year').avg('Value').sort(\"Year\", ascending= True)"
      ],
      "metadata": {
        "id": "fLSLBhUtPKVp"
      },
      "execution_count": 18,
      "outputs": []
    },
    {
      "cell_type": "code",
      "source": [
        "df_final_country.show()"
      ],
      "metadata": {
        "colab": {
          "base_uri": "https://localhost:8080/"
        },
        "id": "XT3kHTepPWGW",
        "outputId": "2653be27-2d3b-4c20-ba1c-3be3c94d982a"
      },
      "execution_count": 19,
      "outputs": [
        {
          "output_type": "stream",
          "name": "stdout",
          "text": [
            "+--------------------+----+----------+\n",
            "|             Country|Year|avg(Value)|\n",
            "+--------------------+----+----------+\n",
            "|              Guyana|1990|     22.66|\n",
            "|            Pakistan|1990|     62.29|\n",
            "|              Sweden|1990|      10.9|\n",
            "|      United Kingdom|1990|     18.28|\n",
            "|                Niue|1990|      6.51|\n",
            "|         Puerto Rico|1990|      7.08|\n",
            "|             Tokelau|1990|      7.17|\n",
            "|                Peru|1990|     79.01|\n",
            "|   Brunei Darussalam|1990|       8.1|\n",
            "|            Djibouti|1990|     39.59|\n",
            "|            Bulgaria|1990|     27.83|\n",
            "|               Congo|1990|     26.62|\n",
            "|                Cuba|1990|     20.98|\n",
            "|             Hungary|1990|     25.18|\n",
            "|             Belarus|1990|     33.53|\n",
            "|               Ghana|1990|      61.2|\n",
            "|Sao Tome and Prin...|1990|     24.81|\n",
            "|                Chad|1990|     55.48|\n",
            "|               Korea|1990|     25.94|\n",
            "|              Guinea|1990|      48.6|\n",
            "+--------------------+----+----------+\n",
            "only showing top 20 rows\n",
            "\n"
          ]
        }
      ]
    },
    {
      "cell_type": "code",
      "source": [
        "df_final_year = df_25_final.groupBy('Year').avg('Value').sort(\"Year\", ascending= True).show()\n",
        "\n",
        "#arrendar se necessário"
      ],
      "metadata": {
        "colab": {
          "base_uri": "https://localhost:8080/"
        },
        "id": "QU-pf0yaPhYP",
        "outputId": "86ebdfce-da26-4a5e-98b8-adb46b4dc920"
      },
      "execution_count": 20,
      "outputs": [
        {
          "output_type": "stream",
          "name": "stdout",
          "text": [
            "+----+------------------+\n",
            "|Year|        avg(Value)|\n",
            "+----+------------------+\n",
            "|1990|26.301798387096774|\n",
            "|1995| 25.27318548387097|\n",
            "|2000| 26.33268951612904|\n",
            "|2001|25.114399999999982|\n",
            "|2002| 25.61635555555554|\n",
            "|2003|25.566133333333326|\n",
            "|2004| 25.36097777777777|\n",
            "|2005| 24.98936693548387|\n",
            "|2006| 24.64817777777778|\n",
            "|2007|25.427688888888895|\n",
            "|2008|25.084177777777764|\n",
            "|2009|24.179333333333325|\n",
            "|2010|22.180205645161294|\n",
            "|2011|24.691282258064504|\n",
            "|2012|25.173290322580637|\n",
            "|2013|24.336842741935477|\n",
            "|2014|23.564423387096763|\n",
            "|2015|25.539008064516125|\n",
            "|2016| 24.37410483870967|\n",
            "|2017| 23.73243548387095|\n",
            "+----+------------------+\n",
            "only showing top 20 rows\n",
            "\n"
          ]
        }
      ]
    },
    {
      "cell_type": "markdown",
      "source": [
        "# Dataset green- Mortality from exposition\n"
      ],
      "metadata": {
        "id": "NSlhJuwoSTS0"
      }
    },
    {
      "cell_type": "code",
      "source": [
        "url2 = \"https://raw.githubusercontent.com/LuisaPolicarpo/Project_6/main/Datasets/GREEN_GROWTH_26012023160453447.csv\"\n",
        "from pyspark import SparkFiles\n",
        "spark.sparkContext.addFile(url2)\n",
        "\n",
        "df_gg = spark.read.csv(\"file://\"+SparkFiles.get(\"GREEN_GROWTH_26012023160453447.csv\"), header=True, inferSchema= True)"
      ],
      "metadata": {
        "id": "Ks0UXVNaSPsR"
      },
      "execution_count": 21,
      "outputs": []
    },
    {
      "cell_type": "code",
      "source": [
        "df_gg.show()"
      ],
      "metadata": {
        "colab": {
          "base_uri": "https://localhost:8080/"
        },
        "id": "PodzedoJSqGB",
        "outputId": "89a2c9ef-33be-4eaf-b82f-51939e562a70"
      },
      "execution_count": 22,
      "outputs": [
        {
          "output_type": "stream",
          "name": "stdout",
          "text": [
            "+---+-------+------+--------------------+----+----+----------+--------------------+--------------+---------+---------------------+----------------+-------+----------+-----+\n",
            "|COU|Country|   VAR|            Variable| YEA|Year| Unit Code|                Unit|PowerCode Code|PowerCode|Reference Period Code|Reference Period|  Value|Flag Codes|Flags|\n",
            "+---+-------+------+--------------------+----+----+----------+--------------------+--------------+---------+---------------------+----------------+-------+----------+-----+\n",
            "|LVA| Latvia|PM_MOR|Mortality from ex...|1990|1990|1000000HAB|Per 1 000 000 inh...|             0|    Units|                 null|            null| 993.94|      null| null|\n",
            "|LVA| Latvia|PM_MOR|Mortality from ex...|1991|1991|1000000HAB|Per 1 000 000 inh...|             0|    Units|                 null|            null|1009.85|      null| null|\n",
            "|LVA| Latvia|PM_MOR|Mortality from ex...|1992|1992|1000000HAB|Per 1 000 000 inh...|             0|    Units|                 null|            null|1048.59|      null| null|\n",
            "|LVA| Latvia|PM_MOR|Mortality from ex...|1993|1993|1000000HAB|Per 1 000 000 inh...|             0|    Units|                 null|            null|1181.37|      null| null|\n",
            "|LVA| Latvia|PM_MOR|Mortality from ex...|1994|1994|1000000HAB|Per 1 000 000 inh...|             0|    Units|                 null|            null|1278.66|      null| null|\n",
            "|LVA| Latvia|PM_MOR|Mortality from ex...|1995|1995|1000000HAB|Per 1 000 000 inh...|             0|    Units|                 null|            null|1192.72|      null| null|\n",
            "|LVA| Latvia|PM_MOR|Mortality from ex...|1996|1996|1000000HAB|Per 1 000 000 inh...|             0|    Units|                 null|            null|1022.56|      null| null|\n",
            "|LVA| Latvia|PM_MOR|Mortality from ex...|1997|1997|1000000HAB|Per 1 000 000 inh...|             0|    Units|                 null|            null| 968.07|      null| null|\n",
            "|LVA| Latvia|PM_MOR|Mortality from ex...|1998|1998|1000000HAB|Per 1 000 000 inh...|             0|    Units|                 null|            null| 984.47|      null| null|\n",
            "|LVA| Latvia|PM_MOR|Mortality from ex...|1999|1999|1000000HAB|Per 1 000 000 inh...|             0|    Units|                 null|            null| 918.62|      null| null|\n",
            "|LVA| Latvia|PM_MOR|Mortality from ex...|2000|2000|1000000HAB|Per 1 000 000 inh...|             0|    Units|                 null|            null| 888.39|      null| null|\n",
            "|LVA| Latvia|PM_MOR|Mortality from ex...|2001|2001|1000000HAB|Per 1 000 000 inh...|             0|    Units|                 null|            null| 937.02|      null| null|\n",
            "|LVA| Latvia|PM_MOR|Mortality from ex...|2002|2002|1000000HAB|Per 1 000 000 inh...|             0|    Units|                 null|            null| 929.93|      null| null|\n",
            "|LVA| Latvia|PM_MOR|Mortality from ex...|2003|2003|1000000HAB|Per 1 000 000 inh...|             0|    Units|                 null|            null| 925.71|      null| null|\n",
            "|LVA| Latvia|PM_MOR|Mortality from ex...|2004|2004|1000000HAB|Per 1 000 000 inh...|             0|    Units|                 null|            null| 921.06|      null| null|\n",
            "|LVA| Latvia|PM_MOR|Mortality from ex...|2005|2005|1000000HAB|Per 1 000 000 inh...|             0|    Units|                 null|            null|  958.4|      null| null|\n",
            "|LVA| Latvia|PM_MOR|Mortality from ex...|2006|2006|1000000HAB|Per 1 000 000 inh...|             0|    Units|                 null|            null|1011.48|      null| null|\n",
            "|LVA| Latvia|PM_MOR|Mortality from ex...|2007|2007|1000000HAB|Per 1 000 000 inh...|             0|    Units|                 null|            null|1005.82|      null| null|\n",
            "|LVA| Latvia|PM_MOR|Mortality from ex...|2008|2008|1000000HAB|Per 1 000 000 inh...|             0|    Units|                 null|            null|  952.9|      null| null|\n",
            "|LVA| Latvia|PM_MOR|Mortality from ex...|2009|2009|1000000HAB|Per 1 000 000 inh...|             0|    Units|                 null|            null|  928.0|      null| null|\n",
            "+---+-------+------+--------------------+----+----+----------+--------------------+--------------+---------+---------------------+----------------+-------+----------+-----+\n",
            "only showing top 20 rows\n",
            "\n"
          ]
        }
      ]
    },
    {
      "cell_type": "code",
      "source": [
        "df_gg_VAR= df_gg.groupBy('VAR').count().show()"
      ],
      "metadata": {
        "colab": {
          "base_uri": "https://localhost:8080/"
        },
        "id": "Wmrboli8StMz",
        "outputId": "186bbc8c-684b-4237-ae39-d0a884025dc3"
      },
      "execution_count": 23,
      "outputs": [
        {
          "output_type": "stream",
          "name": "stdout",
          "text": [
            "+------+-----+\n",
            "|   VAR|count|\n",
            "+------+-----+\n",
            "|PM_MOR| 6240|\n",
            "+------+-----+\n",
            "\n"
          ]
        }
      ]
    },
    {
      "cell_type": "code",
      "source": [
        "df_gg_Variable= df_gg.groupBy('Variable').count().show()"
      ],
      "metadata": {
        "colab": {
          "base_uri": "https://localhost:8080/"
        },
        "id": "r8ipx5dlS4ts",
        "outputId": "589847a0-fe09-46f5-c6bf-59b72f9efe22"
      },
      "execution_count": 24,
      "outputs": [
        {
          "output_type": "stream",
          "name": "stdout",
          "text": [
            "+--------------------+-----+\n",
            "|            Variable|count|\n",
            "+--------------------+-----+\n",
            "|Mortality from ex...| 6240|\n",
            "+--------------------+-----+\n",
            "\n"
          ]
        }
      ]
    },
    {
      "cell_type": "code",
      "source": [
        "df_gg_year= df_gg.groupBy('Year').count().sort(\"Year\", ascending= True).show()"
      ],
      "metadata": {
        "colab": {
          "base_uri": "https://localhost:8080/"
        },
        "id": "RZokxmIUTBTF",
        "outputId": "474e990d-c7ed-4e8d-fa1b-90927373bbb1"
      },
      "execution_count": 29,
      "outputs": [
        {
          "output_type": "stream",
          "name": "stdout",
          "text": [
            "+----+-----+\n",
            "|Year|count|\n",
            "+----+-----+\n",
            "|1990|  208|\n",
            "|1991|  208|\n",
            "|1992|  208|\n",
            "|1993|  208|\n",
            "|1994|  208|\n",
            "|1995|  208|\n",
            "|1996|  208|\n",
            "|1997|  208|\n",
            "|1998|  208|\n",
            "|1999|  208|\n",
            "|2000|  208|\n",
            "|2001|  208|\n",
            "|2002|  208|\n",
            "|2003|  208|\n",
            "|2004|  208|\n",
            "|2005|  208|\n",
            "|2006|  208|\n",
            "|2007|  208|\n",
            "|2008|  208|\n",
            "|2009|  208|\n",
            "+----+-----+\n",
            "only showing top 20 rows\n",
            "\n"
          ]
        }
      ]
    },
    {
      "cell_type": "code",
      "source": [
        "df_gg_UnitCode= df_gg.groupBy('Unit Code').count().show()"
      ],
      "metadata": {
        "colab": {
          "base_uri": "https://localhost:8080/"
        },
        "id": "qq0lYE9zWU1q",
        "outputId": "f6089c3b-1bef-47d8-b55c-0d2c580f1e0f"
      },
      "execution_count": 30,
      "outputs": [
        {
          "output_type": "stream",
          "name": "stdout",
          "text": [
            "+----------+-----+\n",
            "| Unit Code|count|\n",
            "+----------+-----+\n",
            "|1000000HAB| 6240|\n",
            "+----------+-----+\n",
            "\n"
          ]
        }
      ]
    },
    {
      "cell_type": "code",
      "source": [
        "df_gg_Unit= df_gg.groupBy('Unit').count().show()"
      ],
      "metadata": {
        "colab": {
          "base_uri": "https://localhost:8080/"
        },
        "id": "_opQ1sd0WcnF",
        "outputId": "a524789b-3560-49e2-ae99-1e5debbaa3de"
      },
      "execution_count": 31,
      "outputs": [
        {
          "output_type": "stream",
          "name": "stdout",
          "text": [
            "+--------------------+-----+\n",
            "|                Unit|count|\n",
            "+--------------------+-----+\n",
            "|Per 1 000 000 inh...| 6240|\n",
            "+--------------------+-----+\n",
            "\n"
          ]
        }
      ]
    },
    {
      "cell_type": "code",
      "source": [
        "df_gg_PowerCode = df_gg.groupBy('PowerCode Code').count().show()"
      ],
      "metadata": {
        "colab": {
          "base_uri": "https://localhost:8080/"
        },
        "id": "eXN9z3LcWgPV",
        "outputId": "6f3a72ee-ec8a-4cd0-c116-928c7c9ff631"
      },
      "execution_count": 33,
      "outputs": [
        {
          "output_type": "stream",
          "name": "stdout",
          "text": [
            "+--------------+-----+\n",
            "|PowerCode Code|count|\n",
            "+--------------+-----+\n",
            "|             0| 6240|\n",
            "+--------------+-----+\n",
            "\n"
          ]
        }
      ]
    },
    {
      "cell_type": "code",
      "source": [
        "df_gg_PowerCoderef = df_gg.groupBy('Reference Period Code').count().show() "
      ],
      "metadata": {
        "colab": {
          "base_uri": "https://localhost:8080/"
        },
        "id": "-UbAQORUWw__",
        "outputId": "e662fe2a-f4a4-489d-e1c4-4a130173c310"
      },
      "execution_count": 34,
      "outputs": [
        {
          "output_type": "stream",
          "name": "stdout",
          "text": [
            "+---------------------+-----+\n",
            "|Reference Period Code|count|\n",
            "+---------------------+-----+\n",
            "|                 null| 6240|\n",
            "+---------------------+-----+\n",
            "\n"
          ]
        }
      ]
    },
    {
      "cell_type": "code",
      "source": [
        "df_gg_Flags = df_gg.groupBy('Flags').count().show()"
      ],
      "metadata": {
        "colab": {
          "base_uri": "https://localhost:8080/"
        },
        "id": "ZuYgMKMCW55i",
        "outputId": "73317fa1-cd87-4332-aa55-b9cc1f475142"
      },
      "execution_count": 35,
      "outputs": [
        {
          "output_type": "stream",
          "name": "stdout",
          "text": [
            "+-----+-----+\n",
            "|Flags|count|\n",
            "+-----+-----+\n",
            "| null| 6240|\n",
            "+-----+-----+\n",
            "\n"
          ]
        }
      ]
    },
    {
      "cell_type": "code",
      "source": [
        "df_gg.show()"
      ],
      "metadata": {
        "colab": {
          "base_uri": "https://localhost:8080/"
        },
        "id": "3DxBJbPuXCWN",
        "outputId": "740b1d1d-3f17-412e-c69d-d84773a24717"
      },
      "execution_count": 36,
      "outputs": [
        {
          "output_type": "stream",
          "name": "stdout",
          "text": [
            "+---+-------+------+--------------------+----+----+----------+--------------------+--------------+---------+---------------------+----------------+-------+----------+-----+\n",
            "|COU|Country|   VAR|            Variable| YEA|Year| Unit Code|                Unit|PowerCode Code|PowerCode|Reference Period Code|Reference Period|  Value|Flag Codes|Flags|\n",
            "+---+-------+------+--------------------+----+----+----------+--------------------+--------------+---------+---------------------+----------------+-------+----------+-----+\n",
            "|LVA| Latvia|PM_MOR|Mortality from ex...|1990|1990|1000000HAB|Per 1 000 000 inh...|             0|    Units|                 null|            null| 993.94|      null| null|\n",
            "|LVA| Latvia|PM_MOR|Mortality from ex...|1991|1991|1000000HAB|Per 1 000 000 inh...|             0|    Units|                 null|            null|1009.85|      null| null|\n",
            "|LVA| Latvia|PM_MOR|Mortality from ex...|1992|1992|1000000HAB|Per 1 000 000 inh...|             0|    Units|                 null|            null|1048.59|      null| null|\n",
            "|LVA| Latvia|PM_MOR|Mortality from ex...|1993|1993|1000000HAB|Per 1 000 000 inh...|             0|    Units|                 null|            null|1181.37|      null| null|\n",
            "|LVA| Latvia|PM_MOR|Mortality from ex...|1994|1994|1000000HAB|Per 1 000 000 inh...|             0|    Units|                 null|            null|1278.66|      null| null|\n",
            "|LVA| Latvia|PM_MOR|Mortality from ex...|1995|1995|1000000HAB|Per 1 000 000 inh...|             0|    Units|                 null|            null|1192.72|      null| null|\n",
            "|LVA| Latvia|PM_MOR|Mortality from ex...|1996|1996|1000000HAB|Per 1 000 000 inh...|             0|    Units|                 null|            null|1022.56|      null| null|\n",
            "|LVA| Latvia|PM_MOR|Mortality from ex...|1997|1997|1000000HAB|Per 1 000 000 inh...|             0|    Units|                 null|            null| 968.07|      null| null|\n",
            "|LVA| Latvia|PM_MOR|Mortality from ex...|1998|1998|1000000HAB|Per 1 000 000 inh...|             0|    Units|                 null|            null| 984.47|      null| null|\n",
            "|LVA| Latvia|PM_MOR|Mortality from ex...|1999|1999|1000000HAB|Per 1 000 000 inh...|             0|    Units|                 null|            null| 918.62|      null| null|\n",
            "|LVA| Latvia|PM_MOR|Mortality from ex...|2000|2000|1000000HAB|Per 1 000 000 inh...|             0|    Units|                 null|            null| 888.39|      null| null|\n",
            "|LVA| Latvia|PM_MOR|Mortality from ex...|2001|2001|1000000HAB|Per 1 000 000 inh...|             0|    Units|                 null|            null| 937.02|      null| null|\n",
            "|LVA| Latvia|PM_MOR|Mortality from ex...|2002|2002|1000000HAB|Per 1 000 000 inh...|             0|    Units|                 null|            null| 929.93|      null| null|\n",
            "|LVA| Latvia|PM_MOR|Mortality from ex...|2003|2003|1000000HAB|Per 1 000 000 inh...|             0|    Units|                 null|            null| 925.71|      null| null|\n",
            "|LVA| Latvia|PM_MOR|Mortality from ex...|2004|2004|1000000HAB|Per 1 000 000 inh...|             0|    Units|                 null|            null| 921.06|      null| null|\n",
            "|LVA| Latvia|PM_MOR|Mortality from ex...|2005|2005|1000000HAB|Per 1 000 000 inh...|             0|    Units|                 null|            null|  958.4|      null| null|\n",
            "|LVA| Latvia|PM_MOR|Mortality from ex...|2006|2006|1000000HAB|Per 1 000 000 inh...|             0|    Units|                 null|            null|1011.48|      null| null|\n",
            "|LVA| Latvia|PM_MOR|Mortality from ex...|2007|2007|1000000HAB|Per 1 000 000 inh...|             0|    Units|                 null|            null|1005.82|      null| null|\n",
            "|LVA| Latvia|PM_MOR|Mortality from ex...|2008|2008|1000000HAB|Per 1 000 000 inh...|             0|    Units|                 null|            null|  952.9|      null| null|\n",
            "|LVA| Latvia|PM_MOR|Mortality from ex...|2009|2009|1000000HAB|Per 1 000 000 inh...|             0|    Units|                 null|            null|  928.0|      null| null|\n",
            "+---+-------+------+--------------------+----+----+----------+--------------------+--------------+---------+---------------------+----------------+-------+----------+-----+\n",
            "only showing top 20 rows\n",
            "\n"
          ]
        }
      ]
    },
    {
      "cell_type": "code",
      "source": [
        "df_gg_final = df_gg.drop(\"COU\", \"Unit Code\", \"VAR\",\"YEA\",\"PowerCode Code\", \"Unit\", \"Unit Code\", \"PowerCode\",\"Reference Period Code\",\"Reference Period\",\"Flag Codes\",\"Flags\")"
      ],
      "metadata": {
        "id": "37PVK0vAW_ys"
      },
      "execution_count": 40,
      "outputs": []
    },
    {
      "cell_type": "code",
      "source": [
        "df_gg_final_country = df_gg_final.groupBy('Country', 'Year').avg('Value').sort(\"Year\", ascending= True).show()"
      ],
      "metadata": {
        "colab": {
          "base_uri": "https://localhost:8080/"
        },
        "id": "tn-heMLQXYOO",
        "outputId": "a336eab0-3cf2-4ff1-cc47-0d1ca54de771"
      },
      "execution_count": 42,
      "outputs": [
        {
          "output_type": "stream",
          "name": "stdout",
          "text": [
            "+--------------------+----+----------+\n",
            "|             Country|Year|avg(Value)|\n",
            "+--------------------+----+----------+\n",
            "|                Chad|1990|    131.52|\n",
            "|                Iran|1990|    435.05|\n",
            "|              Guinea|1990|     195.6|\n",
            "|            Botswana|1990|    180.09|\n",
            "|             Morocco|1990|    298.23|\n",
            "|                Peru|1990|    280.63|\n",
            "|             Vanuatu|1990|     90.49|\n",
            "|               Congo|1990|    223.28|\n",
            "|      United Kingdom|1990|    722.56|\n",
            "|              Brazil|1990|    200.83|\n",
            "|              Guyana|1990|    430.85|\n",
            "|             Hungary|1990|   1080.22|\n",
            "|              Sweden|1990|    314.52|\n",
            "|               Ghana|1990|    236.78|\n",
            "|            Bulgaria|1990|   1352.45|\n",
            "|Sao Tome and Prin...|1990|    144.37|\n",
            "|         Saint Lucia|1990|    273.08|\n",
            "|               Korea|1990|    417.57|\n",
            "|            Djibouti|1990|    120.32|\n",
            "|                Togo|1990|    147.06|\n",
            "+--------------------+----+----------+\n",
            "only showing top 20 rows\n",
            "\n"
          ]
        }
      ]
    },
    {
      "cell_type": "code",
      "source": [
        "df_gg_final_year = df_gg_final.groupBy('Year').avg('Value').sort(\"Year\", ascending= True).show()"
      ],
      "metadata": {
        "colab": {
          "base_uri": "https://localhost:8080/"
        },
        "id": "FLfu3qp2XR6t",
        "outputId": "e9a6d690-89d1-48b1-de5a-48cb5d9503d9"
      },
      "execution_count": 43,
      "outputs": [
        {
          "output_type": "stream",
          "name": "stdout",
          "text": [
            "+----+------------------+\n",
            "|Year|        avg(Value)|\n",
            "+----+------------------+\n",
            "|1990|346.60697115384625|\n",
            "|1991|347.58802884615363|\n",
            "|1992| 350.8345192307692|\n",
            "|1993|357.06774038461543|\n",
            "|1994| 360.2563461538458|\n",
            "|1995| 361.0647596153848|\n",
            "|1996|359.14754807692304|\n",
            "|1997|359.34817307692305|\n",
            "|1998| 359.0308653846154|\n",
            "|1999|359.88182692307686|\n",
            "|2000|357.59620192307676|\n",
            "|2001| 355.7557692307694|\n",
            "|2002| 356.3358173076925|\n",
            "|2003| 355.9631250000002|\n",
            "|2004|352.30298076923066|\n",
            "|2005| 353.2630769230767|\n",
            "|2006| 351.6406250000001|\n",
            "|2007| 353.2014423076925|\n",
            "|2008| 355.2285576923078|\n",
            "|2009| 355.8989903846151|\n",
            "+----+------------------+\n",
            "only showing top 20 rows\n",
            "\n"
          ]
        }
      ]
    },
    {
      "cell_type": "markdown",
      "source": [
        "# Social context"
      ],
      "metadata": {
        "id": "Qw8UowTxX1uS"
      }
    },
    {
      "cell_type": "code",
      "source": [
        "url3 = \"https://raw.githubusercontent.com/LuisaPolicarpo/Project_6/main/Datasets/socio_context.csv\"\n",
        "from pyspark import SparkFiles\n",
        "spark.sparkContext.addFile(url3)\n",
        "\n",
        "df_sc = spark.read.csv(\"file://\"+SparkFiles.get(\"socio_context.csv\"), header=True, inferSchema= True)"
      ],
      "metadata": {
        "id": "nDcY8VxUXqjx"
      },
      "execution_count": 44,
      "outputs": []
    },
    {
      "cell_type": "code",
      "source": [
        "df_sc.show()"
      ],
      "metadata": {
        "colab": {
          "base_uri": "https://localhost:8080/"
        },
        "id": "FwoMyCXQYDC2",
        "outputId": "2f51690c-83b2-40fd-bd46-c330ac1a260d"
      },
      "execution_count": 45,
      "outputs": [
        {
          "output_type": "stream",
          "name": "stdout",
          "text": [
            "+---+---------+--------+-------------------+----+----+---------+---------+--------------+---------+---------------------+----------------+--------+----------+---------------+\n",
            "|COU|  Country|     VAR|           Variable| YEA|Year|Unit Code|     Unit|PowerCode Code|PowerCode|Reference Period Code|Reference Period|   Value|Flag Codes|          Flags|\n",
            "+---+---------+--------+-------------------+----+----+---------+---------+--------------+---------+---------------------+----------------+--------+----------+---------------+\n",
            "|AUS|Australia|GDP_RCAP|Real GDP per capita|1990|1990|      USD|US Dollar|             0|    Units|                 2015|            2015|29850.87|         E|Estimated value|\n",
            "|AUS|Australia|GDP_RCAP|Real GDP per capita|1991|1991|      USD|US Dollar|             0|    Units|                 2015|            2015|29599.13|         E|Estimated value|\n",
            "|AUS|Australia|GDP_RCAP|Real GDP per capita|1992|1992|      USD|US Dollar|             0|    Units|                 2015|            2015|30454.25|         E|Estimated value|\n",
            "|AUS|Australia|GDP_RCAP|Real GDP per capita|1993|1993|      USD|US Dollar|             0|    Units|                 2015|            2015|31386.17|         E|Estimated value|\n",
            "|AUS|Australia|GDP_RCAP|Real GDP per capita|1994|1994|      USD|US Dollar|             0|    Units|                 2015|            2015|32293.66|         E|Estimated value|\n",
            "|AUS|Australia|GDP_RCAP|Real GDP per capita|1995|1995|      USD|US Dollar|             0|    Units|                 2015|            2015|33167.72|         E|Estimated value|\n",
            "|AUS|Australia|GDP_RCAP|Real GDP per capita|1996|1996|      USD|US Dollar|             0|    Units|                 2015|            2015|34049.68|         E|Estimated value|\n",
            "|AUS|Australia|GDP_RCAP|Real GDP per capita|1997|1997|      USD|US Dollar|             0|    Units|                 2015|            2015|35237.17|         E|Estimated value|\n",
            "|AUS|Australia|GDP_RCAP|Real GDP per capita|1998|1998|      USD|US Dollar|             0|    Units|                 2015|            2015|36616.83|         E|Estimated value|\n",
            "|AUS|Australia|GDP_RCAP|Real GDP per capita|1999|1999|      USD|US Dollar|             0|    Units|                 2015|            2015|37631.38|         E|Estimated value|\n",
            "|AUS|Australia|GDP_RCAP|Real GDP per capita|2000|2000|      USD|US Dollar|             0|    Units|                 2015|            2015|37962.63|         E|Estimated value|\n",
            "|AUS|Australia|GDP_RCAP|Real GDP per capita|2001|2001|      USD|US Dollar|             0|    Units|                 2015|            2015|38975.05|         E|Estimated value|\n",
            "|AUS|Australia|GDP_RCAP|Real GDP per capita|2002|2002|      USD|US Dollar|             0|    Units|                 2015|            2015|39733.15|         E|Estimated value|\n",
            "|AUS|Australia|GDP_RCAP|Real GDP per capita|2003|2003|      USD|US Dollar|             0|    Units|                 2015|            2015|40935.01|         E|Estimated value|\n",
            "|AUS|Australia|GDP_RCAP|Real GDP per capita|2004|2004|      USD|US Dollar|             0|    Units|                 2015|            2015|41776.92|         E|Estimated value|\n",
            "|AUS|Australia|GDP_RCAP|Real GDP per capita|2005|2005|      USD|US Dollar|             0|    Units|                 2015|            2015|42402.56|         E|Estimated value|\n",
            "|AUS|Australia|GDP_RCAP|Real GDP per capita|2006|2006|      USD|US Dollar|             0|    Units|                 2015|            2015|43414.66|         E|Estimated value|\n",
            "|AUS|Australia|GDP_RCAP|Real GDP per capita|2007|2007|      USD|US Dollar|             0|    Units|                 2015|            2015|44150.67|         E|Estimated value|\n",
            "|AUS|Australia|GDP_RCAP|Real GDP per capita|2008|2008|      USD|US Dollar|             0|    Units|                 2015|            2015|44084.18|         E|Estimated value|\n",
            "|AUS|Australia|GDP_RCAP|Real GDP per capita|2009|2009|      USD|US Dollar|             0|    Units|                 2015|            2015|44137.88|         E|Estimated value|\n",
            "+---+---------+--------+-------------------+----+----+---------+---------+--------------+---------+---------------------+----------------+--------+----------+---------------+\n",
            "only showing top 20 rows\n",
            "\n"
          ]
        }
      ]
    },
    {
      "cell_type": "code",
      "source": [
        "df_sc_Country = df_sc.groupBy('Country').count().show()"
      ],
      "metadata": {
        "colab": {
          "base_uri": "https://localhost:8080/"
        },
        "id": "8VeZiyQ2YNwI",
        "outputId": "38af5b26-c8bb-48be-eac1-e1943246e69e"
      },
      "execution_count": 47,
      "outputs": [
        {
          "output_type": "stream",
          "name": "stdout",
          "text": [
            "+--------------------+-----+\n",
            "|             Country|count|\n",
            "+--------------------+-----+\n",
            "|       Côte d'Ivoire|  638|\n",
            "|                Chad|  595|\n",
            "|              Russia|  581|\n",
            "|            Paraguay|  637|\n",
            "|            Anguilla|  352|\n",
            "|               World|  384|\n",
            "|               Yemen|  595|\n",
            "|Middle East and N...|  370|\n",
            "|             Senegal|  621|\n",
            "|              Sweden|  640|\n",
            "|          Cabo Verde|  608|\n",
            "|             Tokelau|  288|\n",
            "|            Kiribati|  597|\n",
            "|              Guyana|  638|\n",
            "|         Philippines|  630|\n",
            "|             Eritrea|  467|\n",
            "|            Djibouti|  502|\n",
            "|               Tonga|  564|\n",
            "|            Malaysia|  638|\n",
            "|           Singapore|  620|\n",
            "+--------------------+-----+\n",
            "only showing top 20 rows\n",
            "\n"
          ]
        }
      ]
    },
    {
      "cell_type": "code",
      "source": [
        "df_sc_VAr = df_sc.groupBy('VAR').count().show()"
      ],
      "metadata": {
        "colab": {
          "base_uri": "https://localhost:8080/"
        },
        "id": "JCRJYaisYVtt",
        "outputId": "ae672695-7598-4766-d9c3-fa60a0374048"
      },
      "execution_count": 48,
      "outputs": [
        {
          "output_type": "stream",
          "name": "stdout",
          "text": [
            "+-------------+-----+\n",
            "|          VAR|count|\n",
            "+-------------+-----+\n",
            "|     LTAX_GDP| 3671|\n",
            "|  POP_NETMIGR| 7334|\n",
            "|   POP_SWOMEN| 7389|\n",
            "|    POP_A1564| 7389|\n",
            "|    SRVGDP_PC| 5510|\n",
            "|POP_FERTILITY| 7417|\n",
            "|          POP| 7392|\n",
            "|       POPDEN| 7030|\n",
            "|    LTAX_TTAX| 3696|\n",
            "|     GDP_RCAP| 6486|\n",
            "|    AGRGDP_PC| 5510|\n",
            "|  POP_LIFEEXP| 7417|\n",
            "|    INDGDP_PC| 5510|\n",
            "|      GDP_R00| 6385|\n",
            "|    POP_A0014| 7389|\n",
            "|    POP_A65UP| 7389|\n",
            "|        GDP_R| 6485|\n",
            "|          DEF| 6223|\n",
            "|           XR| 6464|\n",
            "|          PPP| 6019|\n",
            "+-------------+-----+\n",
            "\n"
          ]
        }
      ]
    },
    {
      "cell_type": "code",
      "source": [
        "df_sc_VAriance = df_sc.groupBy('Variable').count().show()"
      ],
      "metadata": {
        "colab": {
          "base_uri": "https://localhost:8080/"
        },
        "id": "olnjftDdfoHt",
        "outputId": "01811ac6-6daf-4ef3-b7a0-be0838c049a0"
      },
      "execution_count": 49,
      "outputs": [
        {
          "output_type": "stream",
          "name": "stdout",
          "text": [
            "+--------------------+-----+\n",
            "|            Variable|count|\n",
            "+--------------------+-----+\n",
            "|       Net migration| 7334|\n",
            "| Real GDP per capita| 6486|\n",
            "|Population, ages ...| 7389|\n",
            "|Population, ages ...| 7389|\n",
            "|Life expectancy a...| 7417|\n",
            "|          Population| 7392|\n",
            "|Total fertility r...| 7417|\n",
            "|Labour tax revenu...| 3696|\n",
            "|Labour tax revenu...| 3671|\n",
            "|Population, ages ...| 7389|\n",
            "|Value added in in...| 5510|\n",
            "|Women, % total po...| 7389|\n",
            "|Value added in ag...| 5510|\n",
            "|Population densit...| 7030|\n",
            "|Value added in se...| 5510|\n",
            "|Real GDP, Index 2...| 6385|\n",
            "|            Real GDP| 6485|\n",
            "|        GDP deflator| 6223|\n",
            "|Purchasing power ...| 6019|\n",
            "|Nominal exchange ...| 6464|\n",
            "+--------------------+-----+\n",
            "\n"
          ]
        }
      ]
    },
    {
      "cell_type": "code",
      "source": [
        "# real gdp, population ages, life expen, fertility, women, population density, purchasing power"
      ],
      "metadata": {
        "id": "vNIO4L0cfwMq"
      },
      "execution_count": null,
      "outputs": []
    },
    {
      "cell_type": "markdown",
      "source": [
        "**GDP** indicates the share of a country's output that is collected by the government through taxes\n",
        "\n",
        "\n",
        "**POP_NETMIGR** the number of immigrants minus the number of emigrants, including citizens and noncitizens\n",
        "\n",
        "**POP_SWOMEN** number of women\n",
        "\n",
        "**POP_A1564** \n",
        "\n",
        "**SRVGDP_PC** GDP per capita ????????\n",
        "\n",
        "**POP_FERTILITY** number of children\n",
        "\n",
        "**POP** Population\n",
        "\n",
        "**POPDEN** is the concentration of individuals within a species in a specific geographic locale\n",
        "\n",
        "**LTAX_TTAX** Tax?????????????\n",
        "\n",
        "**GDP_RCAP** ???????\n",
        "\n",
        "**AGRGDP_PC**\n",
        "\n",
        "**POP_LIFEEXP** life exp.\n",
        "\n",
        "**INDGDP_PC** indice gdp\n",
        "\n",
        "**GDP_R00** \n",
        "\n",
        "**POP_A0014**\n",
        "\n",
        "**POP_A65UP**\n",
        "\n",
        "**DEF**\n",
        "\n",
        "**XR**\n",
        "\n",
        "**PPP**\n"
      ],
      "metadata": {
        "id": "HDDUgTyqZFoT"
      }
    }
  ]
}